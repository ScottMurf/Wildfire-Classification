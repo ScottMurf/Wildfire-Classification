{
 "cells": [
  {
   "cell_type": "code",
   "execution_count": 3,
   "id": "1673543a",
   "metadata": {},
   "outputs": [],
   "source": [
    "# Load libraries\n",
    "import csv  \n",
    "import pandas as pd\n",
    "from sklearn.tree import DecisionTreeClassifier # Import Decision Tree Classifier\n",
    "from sklearn.model_selection import train_test_split # Import train_test_split function\n",
    "from sklearn import metrics #Import scikit-learn metrics module for accuracy calculation\n",
    "import sklearn"
   ]
  },
  {
   "cell_type": "code",
   "execution_count": 8,
   "id": "59347dcc",
   "metadata": {},
   "outputs": [],
   "source": [
    "#Open the text file and read the lines\n",
    "with open('wildfires_training.txt', 'r') as textfile:\n",
    "    lines = textfile.readlines()\n",
    "    \n",
    "#Open the text file and read the lines\n",
    "with open('wildfires_test.txt', 'r') as textfile:\n",
    "    lines2 = textfile.readlines()\n",
    "    \n",
    "#Create a list containing the data in the text file\n",
    "data1=[]\n",
    "for line in lines:\n",
    "    data1.append(tuple(line.split()))\n",
    "    \n",
    "data2=[]\n",
    "for line in lines2:\n",
    "    data2.append(tuple(line.split()))\n",
    "\n",
    "#Convert this data to a csv file format\n",
    "#Specify the column names of the csv\n",
    "header = ['fire','year','temp','humidity','rainfall','drought_code','buildup_index','day','month','wind_speed']\n",
    "\n",
    "#Open the new csv file in write mode and write the contents of the list to the csv\n",
    "with open('wildfires_training.csv', 'w', encoding='UTF8') as f:\n",
    "    writer = csv.writer(f)\n",
    "\n",
    "    # write the header\n",
    "    writer.writerow(header)\n",
    "\n",
    "    # write the data\n",
    "    for line in data1:\n",
    "        writer.writerow(line)\n",
    "    \n",
    "#Open the new csv file in write mode and write the contents of the list to the csv\n",
    "with open('wildfires_test.csv', 'w', encoding='UTF8') as f:\n",
    "    writer = csv.writer(f)\n",
    "\n",
    "    # write the header\n",
    "    writer.writerow(header)\n",
    "\n",
    "    # write the data\n",
    "    for line in data2:\n",
    "        writer.writerow(line)"
   ]
  },
  {
   "cell_type": "code",
   "execution_count": 10,
   "id": "a85ad86e",
   "metadata": {},
   "outputs": [],
   "source": [
    "Training_data=pd.read_csv(\"wildfires_training.csv\")\n",
    "Test_data=pd.read_csv(\"wildfires_test.csv\")"
   ]
  },
  {
   "cell_type": "code",
   "execution_count": 11,
   "id": "51cb94a3",
   "metadata": {},
   "outputs": [],
   "source": [
    "X_train = Training_data[(Training_data.columns)[1:]]\n",
    "y_train = Training_data.fire\n",
    "X_test = Test_data[(Test_data.columns)[1:]]\n",
    "y_test = Test_data.fire"
   ]
  },
  {
   "cell_type": "code",
   "execution_count": 12,
   "id": "90e9ed55",
   "metadata": {},
   "outputs": [
    {
     "data": {
      "text/html": [
       "<div>\n",
       "<style scoped>\n",
       "    .dataframe tbody tr th:only-of-type {\n",
       "        vertical-align: middle;\n",
       "    }\n",
       "\n",
       "    .dataframe tbody tr th {\n",
       "        vertical-align: top;\n",
       "    }\n",
       "\n",
       "    .dataframe thead th {\n",
       "        text-align: right;\n",
       "    }\n",
       "</style>\n",
       "<table border=\"1\" class=\"dataframe\">\n",
       "  <thead>\n",
       "    <tr style=\"text-align: right;\">\n",
       "      <th></th>\n",
       "      <th>year</th>\n",
       "      <th>temp</th>\n",
       "      <th>humidity</th>\n",
       "      <th>rainfall</th>\n",
       "      <th>drought_code</th>\n",
       "      <th>buildup_index</th>\n",
       "      <th>day</th>\n",
       "      <th>month</th>\n",
       "      <th>wind_speed</th>\n",
       "    </tr>\n",
       "  </thead>\n",
       "  <tbody>\n",
       "    <tr>\n",
       "      <th>0</th>\n",
       "      <td>2015</td>\n",
       "      <td>28</td>\n",
       "      <td>59</td>\n",
       "      <td>0.0</td>\n",
       "      <td>8.06</td>\n",
       "      <td>3.47</td>\n",
       "      <td>1</td>\n",
       "      <td>6</td>\n",
       "      <td>19</td>\n",
       "    </tr>\n",
       "    <tr>\n",
       "      <th>1</th>\n",
       "      <td>2010</td>\n",
       "      <td>30</td>\n",
       "      <td>61</td>\n",
       "      <td>1.3</td>\n",
       "      <td>8.17</td>\n",
       "      <td>4.03</td>\n",
       "      <td>2</td>\n",
       "      <td>6</td>\n",
       "      <td>13</td>\n",
       "    </tr>\n",
       "    <tr>\n",
       "      <th>2</th>\n",
       "      <td>2009</td>\n",
       "      <td>26</td>\n",
       "      <td>83</td>\n",
       "      <td>13.1</td>\n",
       "      <td>8.08</td>\n",
       "      <td>3.59</td>\n",
       "      <td>3</td>\n",
       "      <td>6</td>\n",
       "      <td>22</td>\n",
       "    </tr>\n",
       "    <tr>\n",
       "      <th>3</th>\n",
       "      <td>2017</td>\n",
       "      <td>25</td>\n",
       "      <td>87</td>\n",
       "      <td>2.5</td>\n",
       "      <td>7.18</td>\n",
       "      <td>2.42</td>\n",
       "      <td>4</td>\n",
       "      <td>6</td>\n",
       "      <td>15</td>\n",
       "    </tr>\n",
       "    <tr>\n",
       "      <th>4</th>\n",
       "      <td>2014</td>\n",
       "      <td>28</td>\n",
       "      <td>77</td>\n",
       "      <td>0.0</td>\n",
       "      <td>14.98</td>\n",
       "      <td>4.63</td>\n",
       "      <td>5</td>\n",
       "      <td>6</td>\n",
       "      <td>18</td>\n",
       "    </tr>\n",
       "    <tr>\n",
       "      <th>...</th>\n",
       "      <td>...</td>\n",
       "      <td>...</td>\n",
       "      <td>...</td>\n",
       "      <td>...</td>\n",
       "      <td>...</td>\n",
       "      <td>...</td>\n",
       "      <td>...</td>\n",
       "      <td>...</td>\n",
       "      <td>...</td>\n",
       "    </tr>\n",
       "    <tr>\n",
       "      <th>149</th>\n",
       "      <td>2017</td>\n",
       "      <td>31</td>\n",
       "      <td>67</td>\n",
       "      <td>0.0</td>\n",
       "      <td>45.15</td>\n",
       "      <td>17.89</td>\n",
       "      <td>26</td>\n",
       "      <td>9</td>\n",
       "      <td>15</td>\n",
       "    </tr>\n",
       "    <tr>\n",
       "      <th>150</th>\n",
       "      <td>2017</td>\n",
       "      <td>29</td>\n",
       "      <td>89</td>\n",
       "      <td>4.4</td>\n",
       "      <td>8.74</td>\n",
       "      <td>6.52</td>\n",
       "      <td>27</td>\n",
       "      <td>9</td>\n",
       "      <td>15</td>\n",
       "    </tr>\n",
       "    <tr>\n",
       "      <th>151</th>\n",
       "      <td>2009</td>\n",
       "      <td>27</td>\n",
       "      <td>88</td>\n",
       "      <td>0.5</td>\n",
       "      <td>8.87</td>\n",
       "      <td>3.71</td>\n",
       "      <td>28</td>\n",
       "      <td>9</td>\n",
       "      <td>30</td>\n",
       "    </tr>\n",
       "    <tr>\n",
       "      <th>152</th>\n",
       "      <td>2016</td>\n",
       "      <td>25</td>\n",
       "      <td>56</td>\n",
       "      <td>0.1</td>\n",
       "      <td>15.54</td>\n",
       "      <td>6.10</td>\n",
       "      <td>29</td>\n",
       "      <td>9</td>\n",
       "      <td>20</td>\n",
       "    </tr>\n",
       "    <tr>\n",
       "      <th>153</th>\n",
       "      <td>2012</td>\n",
       "      <td>24</td>\n",
       "      <td>62</td>\n",
       "      <td>0.2</td>\n",
       "      <td>16.72</td>\n",
       "      <td>5.75</td>\n",
       "      <td>30</td>\n",
       "      <td>9</td>\n",
       "      <td>17</td>\n",
       "    </tr>\n",
       "  </tbody>\n",
       "</table>\n",
       "<p>154 rows × 9 columns</p>\n",
       "</div>"
      ],
      "text/plain": [
       "     year  temp  humidity  rainfall  drought_code  buildup_index  day  month  \\\n",
       "0    2015    28        59       0.0          8.06           3.47    1      6   \n",
       "1    2010    30        61       1.3          8.17           4.03    2      6   \n",
       "2    2009    26        83      13.1          8.08           3.59    3      6   \n",
       "3    2017    25        87       2.5          7.18           2.42    4      6   \n",
       "4    2014    28        77       0.0         14.98           4.63    5      6   \n",
       "..    ...   ...       ...       ...           ...            ...  ...    ...   \n",
       "149  2017    31        67       0.0         45.15          17.89   26      9   \n",
       "150  2017    29        89       4.4          8.74           6.52   27      9   \n",
       "151  2009    27        88       0.5          8.87           3.71   28      9   \n",
       "152  2016    25        56       0.1         15.54           6.10   29      9   \n",
       "153  2012    24        62       0.2         16.72           5.75   30      9   \n",
       "\n",
       "     wind_speed  \n",
       "0            19  \n",
       "1            13  \n",
       "2            22  \n",
       "3            15  \n",
       "4            18  \n",
       "..          ...  \n",
       "149          15  \n",
       "150          15  \n",
       "151          30  \n",
       "152          20  \n",
       "153          17  \n",
       "\n",
       "[154 rows x 9 columns]"
      ]
     },
     "execution_count": 12,
     "metadata": {},
     "output_type": "execute_result"
    }
   ],
   "source": [
    "X_train"
   ]
  },
  {
   "cell_type": "code",
   "execution_count": 13,
   "id": "38ea3103",
   "metadata": {},
   "outputs": [],
   "source": [
    "# Create Decision Tree classifer object\n",
    "clf = DecisionTreeClassifier(criterion='gini',max_depth=4)\n",
    "\n",
    "# Train Decision Tree Classifer\n",
    "clf = clf.fit(X_train,y_train)\n",
    "\n",
    "#Predict the response for test dataset\n",
    "y_pred = clf.predict(X_test)\n",
    "y_pred2 = clf.predict(X_train)"
   ]
  },
  {
   "cell_type": "markdown",
   "id": "e974bb38",
   "metadata": {},
   "source": [
    "88% accuracy on test data set"
   ]
  },
  {
   "cell_type": "code",
   "execution_count": 14,
   "id": "708c8985",
   "metadata": {},
   "outputs": [
    {
     "data": {
      "text/plain": [
       "88.0"
      ]
     },
     "execution_count": 14,
     "metadata": {},
     "output_type": "execute_result"
    }
   ],
   "source": [
    "sklearn.metrics.accuracy_score(y_test, y_pred)*100"
   ]
  },
  {
   "cell_type": "markdown",
   "id": "484b085f",
   "metadata": {},
   "source": [
    "100% accuracy on training set"
   ]
  },
  {
   "cell_type": "code",
   "execution_count": 15,
   "id": "d5fe0cb2",
   "metadata": {},
   "outputs": [
    {
     "data": {
      "text/plain": [
       "95.45454545454545"
      ]
     },
     "execution_count": 15,
     "metadata": {},
     "output_type": "execute_result"
    }
   ],
   "source": [
    "sklearn.metrics.accuracy_score(y_train, y_pred2)*100"
   ]
  },
  {
   "cell_type": "markdown",
   "id": "719b65ad",
   "metadata": {},
   "source": [
    "Creating the tree pdf"
   ]
  },
  {
   "cell_type": "code",
   "execution_count": 11,
   "id": "3b68928d",
   "metadata": {},
   "outputs": [
    {
     "data": {
      "text/plain": [
       "'tree.pdf'"
      ]
     },
     "execution_count": 11,
     "metadata": {},
     "output_type": "execute_result"
    }
   ],
   "source": [
    "from sklearn import tree\n",
    "import graphviz \n",
    "dot_data = tree.export_graphviz(clf, out_file=None,feature_names=list(X_train.columns),class_names=([\"yes\",\"no\"]),filled=True, rounded=True,special_characters=True) \n",
    "graph = graphviz.Source(dot_data) \n",
    "graph.render(\"tree\") "
   ]
  },
  {
   "cell_type": "markdown",
   "id": "cdca147e",
   "metadata": {},
   "source": [
    "## SVM"
   ]
  },
  {
   "cell_type": "code",
   "execution_count": 17,
   "id": "655e857b",
   "metadata": {},
   "outputs": [],
   "source": [
    "from sklearn import preprocessing\n",
    "import numpy as np\n",
    "\n",
    "scaler1 = preprocessing.StandardScaler().fit(X_train)\n",
    "X_train_scaled = scaler1.transform(X_train)\n",
    "\n",
    "scaler2 = preprocessing.StandardScaler().fit(X_test)\n",
    "X_test_scaled = scaler1.transform(X_test)"
   ]
  },
  {
   "cell_type": "code",
   "execution_count": 22,
   "id": "00cf2ef9",
   "metadata": {},
   "outputs": [
    {
     "data": {
      "text/plain": [
       "84.0"
      ]
     },
     "execution_count": 22,
     "metadata": {},
     "output_type": "execute_result"
    }
   ],
   "source": [
    "from sklearn import svm\n",
    "clf2 = svm.SVC(kernel='linear')\n",
    "clf2.fit(X_train_scaled,y_train)\n",
    "y_pred3 = clf2.predict(X_test_scaled)\n",
    "sklearn.metrics.accuracy_score(y_test, y_pred3)*100"
   ]
  },
  {
   "cell_type": "markdown",
   "id": "69e43602",
   "metadata": {},
   "source": [
    "Naive Bayes"
   ]
  },
  {
   "cell_type": "code",
   "execution_count": 32,
   "id": "1827ee0e",
   "metadata": {},
   "outputs": [
    {
     "data": {
      "text/plain": [
       "86.0"
      ]
     },
     "execution_count": 32,
     "metadata": {},
     "output_type": "execute_result"
    }
   ],
   "source": [
    "from sklearn.datasets import load_iris\n",
    "from sklearn.model_selection import train_test_split\n",
    "from sklearn.naive_bayes import GaussianNB\n",
    "gnb = GaussianNB()\n",
    "y_pred = gnb.fit(X_train, y_train).predict(X_test)\n",
    "sklearn.metrics.accuracy_score(y_test, y_pred)*100"
   ]
  },
  {
   "cell_type": "code",
   "execution_count": null,
   "id": "67c3e281",
   "metadata": {},
   "outputs": [],
   "source": []
  }
 ],
 "metadata": {
  "kernelspec": {
   "display_name": "Python 3",
   "language": "python",
   "name": "python3"
  },
  "language_info": {
   "codemirror_mode": {
    "name": "ipython",
    "version": 3
   },
   "file_extension": ".py",
   "mimetype": "text/x-python",
   "name": "python",
   "nbconvert_exporter": "python",
   "pygments_lexer": "ipython3",
   "version": "3.8.8"
  }
 },
 "nbformat": 4,
 "nbformat_minor": 5
}
