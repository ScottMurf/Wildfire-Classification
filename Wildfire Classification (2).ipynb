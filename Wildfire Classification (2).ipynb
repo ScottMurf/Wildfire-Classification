{
 "cells": [
  {
   "cell_type": "markdown",
   "id": "4bb30bed",
   "metadata": {},
   "source": [
    "# Wildfire Classification\n",
    "\n",
    "## Aim \n",
    "- Practice implementation of **supervised learning** algorithms from Scikit Learn. \n",
    "\n",
    "- Datasets used: 'wildfires_training.txt' and 'wildfires_test.txt'\n",
    "\n",
    "- Goal of algorithm is the **classification** prediction of a wildfire (two classes: yes or no). \n",
    "\n",
    "- The **attributes** of each observation go as follows : fire, year, temp, humidity, rainfall, drought_code, buildup_index, day, month, wind_speed\n",
    "\n",
    "\n",
    "### Contents\n",
    "\n",
    "1. Pre-processing steps. This includes reformatting the datasets from text to csv files. The csv files are also split according to the features and labels of the observations.\n",
    "\n",
    "2. Decision tree Classifier\n",
    "\n",
    "3. Support Vector Machine Classifier\n"
   ]
  },
  {
   "cell_type": "code",
   "execution_count": 45,
   "id": "1673543a",
   "metadata": {},
   "outputs": [],
   "source": [
    "# Load libraries\n",
    "import csv  \n",
    "import pandas as pd\n",
    "from sklearn.tree import DecisionTreeClassifier # Import Decision Tree Classifier\n",
    "from sklearn.model_selection import train_test_split # Import train_test_split function\n",
    "from sklearn import metrics #Import scikit-learn metrics module for accuracy calculation\n",
    "import sklearn"
   ]
  },
  {
   "cell_type": "markdown",
   "id": "cb50c805",
   "metadata": {},
   "source": [
    "### Pre-processing"
   ]
  },
  {
   "cell_type": "code",
   "execution_count": 46,
   "id": "59347dcc",
   "metadata": {},
   "outputs": [],
   "source": [
    "#Open the text file and read the lines\n",
    "with open('wildfires_training.txt', 'r') as textfile:\n",
    "    lines = textfile.readlines()\n",
    "    \n",
    "#Open the text file and read the lines\n",
    "with open('wildfires_test.txt', 'r') as textfile:\n",
    "    lines2 = textfile.readlines()\n",
    "    \n",
    "#Create a list containing the data in the text file\n",
    "data1=[]\n",
    "for line in lines:\n",
    "    data1.append(tuple(line.split()))\n",
    "    \n",
    "data2=[]\n",
    "for line in lines2:\n",
    "    data2.append(tuple(line.split()))\n",
    "\n",
    "#Convert this data to a csv file format\n",
    "#Specify the column names of the csv\n",
    "header = ['fire','year','temp','humidity','rainfall','drought_code','buildup_index','day','month','wind_speed']\n",
    "\n",
    "#Open the new csv file in write mode and write the contents of the list to the csv\n",
    "with open('wildfires_training.csv', 'w', encoding='UTF8') as f:\n",
    "    writer = csv.writer(f)\n",
    "\n",
    "    # write the header\n",
    "    writer.writerow(header)\n",
    "\n",
    "    # write the data\n",
    "    for line in data1:\n",
    "        writer.writerow(line)\n",
    "    \n",
    "#Open the new csv file in write mode and write the contents of the list to the csv\n",
    "with open('wildfires_test.csv', 'w', encoding='UTF8') as f:\n",
    "    writer = csv.writer(f)\n",
    "\n",
    "    # write the header\n",
    "    writer.writerow(header)\n",
    "\n",
    "    # write the data\n",
    "    for line in data2:\n",
    "        writer.writerow(line)"
   ]
  },
  {
   "cell_type": "code",
   "execution_count": 47,
   "id": "a85ad86e",
   "metadata": {},
   "outputs": [],
   "source": [
    "Training_data=pd.read_csv(\"wildfires_training.csv\")\n",
    "Test_data=pd.read_csv(\"wildfires_test.csv\")"
   ]
  },
  {
   "cell_type": "code",
   "execution_count": 144,
   "id": "80f02ce4",
   "metadata": {},
   "outputs": [
    {
     "data": {
      "text/html": [
       "<div>\n",
       "<style scoped>\n",
       "    .dataframe tbody tr th:only-of-type {\n",
       "        vertical-align: middle;\n",
       "    }\n",
       "\n",
       "    .dataframe tbody tr th {\n",
       "        vertical-align: top;\n",
       "    }\n",
       "\n",
       "    .dataframe thead th {\n",
       "        text-align: right;\n",
       "    }\n",
       "</style>\n",
       "<table border=\"1\" class=\"dataframe\">\n",
       "  <thead>\n",
       "    <tr style=\"text-align: right;\">\n",
       "      <th></th>\n",
       "      <th>fire</th>\n",
       "      <th>year</th>\n",
       "      <th>temp</th>\n",
       "      <th>humidity</th>\n",
       "      <th>rainfall</th>\n",
       "      <th>drought_code</th>\n",
       "      <th>buildup_index</th>\n",
       "      <th>day</th>\n",
       "      <th>month</th>\n",
       "      <th>wind_speed</th>\n",
       "    </tr>\n",
       "  </thead>\n",
       "  <tbody>\n",
       "    <tr>\n",
       "      <th>0</th>\n",
       "      <td>no</td>\n",
       "      <td>2015</td>\n",
       "      <td>28</td>\n",
       "      <td>59</td>\n",
       "      <td>0.0</td>\n",
       "      <td>8.06</td>\n",
       "      <td>3.47</td>\n",
       "      <td>1</td>\n",
       "      <td>6</td>\n",
       "      <td>19</td>\n",
       "    </tr>\n",
       "    <tr>\n",
       "      <th>1</th>\n",
       "      <td>no</td>\n",
       "      <td>2010</td>\n",
       "      <td>30</td>\n",
       "      <td>61</td>\n",
       "      <td>1.3</td>\n",
       "      <td>8.17</td>\n",
       "      <td>4.03</td>\n",
       "      <td>2</td>\n",
       "      <td>6</td>\n",
       "      <td>13</td>\n",
       "    </tr>\n",
       "    <tr>\n",
       "      <th>2</th>\n",
       "      <td>no</td>\n",
       "      <td>2009</td>\n",
       "      <td>26</td>\n",
       "      <td>83</td>\n",
       "      <td>13.1</td>\n",
       "      <td>8.08</td>\n",
       "      <td>3.59</td>\n",
       "      <td>3</td>\n",
       "      <td>6</td>\n",
       "      <td>22</td>\n",
       "    </tr>\n",
       "    <tr>\n",
       "      <th>3</th>\n",
       "      <td>no</td>\n",
       "      <td>2017</td>\n",
       "      <td>25</td>\n",
       "      <td>87</td>\n",
       "      <td>2.5</td>\n",
       "      <td>7.18</td>\n",
       "      <td>2.42</td>\n",
       "      <td>4</td>\n",
       "      <td>6</td>\n",
       "      <td>15</td>\n",
       "    </tr>\n",
       "    <tr>\n",
       "      <th>4</th>\n",
       "      <td>no</td>\n",
       "      <td>2014</td>\n",
       "      <td>28</td>\n",
       "      <td>77</td>\n",
       "      <td>0.0</td>\n",
       "      <td>14.98</td>\n",
       "      <td>4.63</td>\n",
       "      <td>5</td>\n",
       "      <td>6</td>\n",
       "      <td>18</td>\n",
       "    </tr>\n",
       "  </tbody>\n",
       "</table>\n",
       "</div>"
      ],
      "text/plain": [
       "  fire  year  temp  humidity  rainfall  drought_code  buildup_index  day  \\\n",
       "0   no  2015    28        59       0.0          8.06           3.47    1   \n",
       "1   no  2010    30        61       1.3          8.17           4.03    2   \n",
       "2   no  2009    26        83      13.1          8.08           3.59    3   \n",
       "3   no  2017    25        87       2.5          7.18           2.42    4   \n",
       "4   no  2014    28        77       0.0         14.98           4.63    5   \n",
       "\n",
       "   month  wind_speed  \n",
       "0      6          19  \n",
       "1      6          13  \n",
       "2      6          22  \n",
       "3      6          15  \n",
       "4      6          18  "
      ]
     },
     "execution_count": 144,
     "metadata": {},
     "output_type": "execute_result"
    }
   ],
   "source": [
    "Training_data.head()"
   ]
  },
  {
   "cell_type": "code",
   "execution_count": 48,
   "id": "51cb94a3",
   "metadata": {},
   "outputs": [],
   "source": [
    "X_train = Training_data[(Training_data.columns)[1:]]\n",
    "y_train = Training_data.fire\n",
    "X_test = Test_data[(Test_data.columns)[1:]]\n",
    "y_test = Test_data.fire"
   ]
  },
  {
   "cell_type": "code",
   "execution_count": 143,
   "id": "df8d3e9a",
   "metadata": {},
   "outputs": [
    {
     "data": {
      "text/html": [
       "<div>\n",
       "<style scoped>\n",
       "    .dataframe tbody tr th:only-of-type {\n",
       "        vertical-align: middle;\n",
       "    }\n",
       "\n",
       "    .dataframe tbody tr th {\n",
       "        vertical-align: top;\n",
       "    }\n",
       "\n",
       "    .dataframe thead th {\n",
       "        text-align: right;\n",
       "    }\n",
       "</style>\n",
       "<table border=\"1\" class=\"dataframe\">\n",
       "  <thead>\n",
       "    <tr style=\"text-align: right;\">\n",
       "      <th></th>\n",
       "      <th>year</th>\n",
       "      <th>temp</th>\n",
       "      <th>humidity</th>\n",
       "      <th>rainfall</th>\n",
       "      <th>drought_code</th>\n",
       "      <th>buildup_index</th>\n",
       "      <th>day</th>\n",
       "      <th>month</th>\n",
       "      <th>wind_speed</th>\n",
       "    </tr>\n",
       "  </thead>\n",
       "  <tbody>\n",
       "    <tr>\n",
       "      <th>0</th>\n",
       "      <td>2015</td>\n",
       "      <td>28</td>\n",
       "      <td>59</td>\n",
       "      <td>0.0</td>\n",
       "      <td>8.06</td>\n",
       "      <td>3.47</td>\n",
       "      <td>1</td>\n",
       "      <td>6</td>\n",
       "      <td>19</td>\n",
       "    </tr>\n",
       "    <tr>\n",
       "      <th>1</th>\n",
       "      <td>2010</td>\n",
       "      <td>30</td>\n",
       "      <td>61</td>\n",
       "      <td>1.3</td>\n",
       "      <td>8.17</td>\n",
       "      <td>4.03</td>\n",
       "      <td>2</td>\n",
       "      <td>6</td>\n",
       "      <td>13</td>\n",
       "    </tr>\n",
       "    <tr>\n",
       "      <th>2</th>\n",
       "      <td>2009</td>\n",
       "      <td>26</td>\n",
       "      <td>83</td>\n",
       "      <td>13.1</td>\n",
       "      <td>8.08</td>\n",
       "      <td>3.59</td>\n",
       "      <td>3</td>\n",
       "      <td>6</td>\n",
       "      <td>22</td>\n",
       "    </tr>\n",
       "    <tr>\n",
       "      <th>3</th>\n",
       "      <td>2017</td>\n",
       "      <td>25</td>\n",
       "      <td>87</td>\n",
       "      <td>2.5</td>\n",
       "      <td>7.18</td>\n",
       "      <td>2.42</td>\n",
       "      <td>4</td>\n",
       "      <td>6</td>\n",
       "      <td>15</td>\n",
       "    </tr>\n",
       "    <tr>\n",
       "      <th>4</th>\n",
       "      <td>2014</td>\n",
       "      <td>28</td>\n",
       "      <td>77</td>\n",
       "      <td>0.0</td>\n",
       "      <td>14.98</td>\n",
       "      <td>4.63</td>\n",
       "      <td>5</td>\n",
       "      <td>6</td>\n",
       "      <td>18</td>\n",
       "    </tr>\n",
       "  </tbody>\n",
       "</table>\n",
       "</div>"
      ],
      "text/plain": [
       "   year  temp  humidity  rainfall  drought_code  buildup_index  day  month  \\\n",
       "0  2015    28        59       0.0          8.06           3.47    1      6   \n",
       "1  2010    30        61       1.3          8.17           4.03    2      6   \n",
       "2  2009    26        83      13.1          8.08           3.59    3      6   \n",
       "3  2017    25        87       2.5          7.18           2.42    4      6   \n",
       "4  2014    28        77       0.0         14.98           4.63    5      6   \n",
       "\n",
       "   wind_speed  \n",
       "0          19  \n",
       "1          13  \n",
       "2          22  \n",
       "3          15  \n",
       "4          18  "
      ]
     },
     "execution_count": 143,
     "metadata": {},
     "output_type": "execute_result"
    }
   ],
   "source": [
    "X_train.head()"
   ]
  },
  {
   "cell_type": "markdown",
   "id": "132da37c",
   "metadata": {},
   "source": [
    "### Decision Tree Classifier"
   ]
  },
  {
   "cell_type": "code",
   "execution_count": 136,
   "id": "38ea3103",
   "metadata": {},
   "outputs": [],
   "source": [
    "# Create Decision Tree classifer object\n",
    "clf = DecisionTreeClassifier(criterion='gini',max_depth=4)\n",
    "\n",
    "# Train Decision Tree Classifer\n",
    "clf = clf.fit(X_train,y_train)\n",
    "\n",
    "#Predict the response for test dataset\n",
    "y_pred = clf.predict(X_test)\n",
    "y_pred2 = clf.predict(X_train)"
   ]
  },
  {
   "cell_type": "code",
   "execution_count": 137,
   "id": "708c8985",
   "metadata": {},
   "outputs": [
    {
     "name": "stdout",
     "output_type": "stream",
     "text": [
      "Training data accuracy 88.0 %\n",
      "Training data accuracy 95.45 %\n"
     ]
    }
   ],
   "source": [
    "#print accuracy on test data\n",
    "acc1=sklearn.metrics.accuracy_score(y_test, y_pred)*100\n",
    "print(\"Training data accuracy\",round(acc1,2),\"%\")\n",
    "#print accuracy on training data\n",
    "acc2=sklearn.metrics.accuracy_score(y_train, y_pred2)*100\n",
    "print(\"Training data accuracy\",round(acc2,2),\"%\")"
   ]
  },
  {
   "cell_type": "code",
   "execution_count": 138,
   "id": "2a23ca44",
   "metadata": {},
   "outputs": [
    {
     "name": "stdout",
     "output_type": "stream",
     "text": [
      "precision: 95.83 %\n",
      "recall: 82.14 %\n",
      "f-score: 88.46 %\n"
     ]
    }
   ],
   "source": [
    "grid=sklearn.metrics.precision_recall_fscore_support(y_test,y_pred)\n",
    "precision,recall,f_score=grid[0][1],grid[1][1],grid[2][1]\n",
    "print(\"precision:\",round(precision*100,2),\"%\")\n",
    "print(\"recall:\",round(recall*100,2),\"%\")\n",
    "print(\"f-score:\",round(f_score*100,2),\"%\")"
   ]
  },
  {
   "cell_type": "code",
   "execution_count": 139,
   "id": "3b68928d",
   "metadata": {},
   "outputs": [
    {
     "data": {
      "text/plain": [
       "'tree.pdf'"
      ]
     },
     "execution_count": 139,
     "metadata": {},
     "output_type": "execute_result"
    }
   ],
   "source": [
    "#Visualizing the tree structure\n",
    "from sklearn import tree\n",
    "import graphviz \n",
    "dot_data = tree.export_graphviz(clf, out_file=None,feature_names=list(X_train.columns),class_names=([\"yes\",\"no\"]),filled=True, rounded=True,special_characters=True) \n",
    "graph = graphviz.Source(dot_data) \n",
    "graph.render(\"tree\") "
   ]
  },
  {
   "cell_type": "markdown",
   "id": "69e43602",
   "metadata": {},
   "source": [
    "### Naive Bayes Classifier"
   ]
  },
  {
   "cell_type": "code",
   "execution_count": 140,
   "id": "1827ee0e",
   "metadata": {},
   "outputs": [
    {
     "name": "stdout",
     "output_type": "stream",
     "text": [
      "Accuracy on test data is: 86.0 %\n"
     ]
    }
   ],
   "source": [
    "from sklearn.datasets import load_iris\n",
    "from sklearn.model_selection import train_test_split\n",
    "from sklearn.naive_bayes import GaussianNB\n",
    "gnb = GaussianNB()\n",
    "y_pred3 = gnb.fit(X_train, y_train).predict(X_test)\n",
    "acc4=sklearn.metrics.accuracy_score(y_test, y_pred3)*100\n",
    "print(\"Accuracy on test data is:\",round(acc4,2),\"%\")"
   ]
  },
  {
   "cell_type": "code",
   "execution_count": 141,
   "id": "95630f30",
   "metadata": {},
   "outputs": [
    {
     "name": "stdout",
     "output_type": "stream",
     "text": [
      "Accuracy on training data is: 90.91 %\n"
     ]
    }
   ],
   "source": [
    "y_pred4 = gnb.fit(X_train, y_train).predict(X_train)\n",
    "acc5=sklearn.metrics.accuracy_score(y_train, y_pred4)*100\n",
    "print(\"Accuracy on training data is:\",round(acc5,2),\"%\")"
   ]
  },
  {
   "cell_type": "code",
   "execution_count": 142,
   "id": "cea21302",
   "metadata": {},
   "outputs": [
    {
     "name": "stdout",
     "output_type": "stream",
     "text": [
      "precision: 86.21 %\n",
      "recall: 89.29 %\n",
      "f-score: 87.72 %\n"
     ]
    }
   ],
   "source": [
    "grid=sklearn.metrics.precision_recall_fscore_support(y_test,y_pred3)\n",
    "precision,recall,f_score=grid[0][1],grid[1][1],grid[2][1]\n",
    "print(\"precision:\",round(precision*100,2),\"%\")\n",
    "print(\"recall:\",round(recall*100,2),\"%\")\n",
    "print(\"f-score:\",round(f_score*100,2),\"%\")"
   ]
  }
 ],
 "metadata": {
  "kernelspec": {
   "display_name": "Python 3",
   "language": "python",
   "name": "python3"
  },
  "language_info": {
   "codemirror_mode": {
    "name": "ipython",
    "version": 3
   },
   "file_extension": ".py",
   "mimetype": "text/x-python",
   "name": "python",
   "nbconvert_exporter": "python",
   "pygments_lexer": "ipython3",
   "version": "3.8.8"
  }
 },
 "nbformat": 4,
 "nbformat_minor": 5
}
